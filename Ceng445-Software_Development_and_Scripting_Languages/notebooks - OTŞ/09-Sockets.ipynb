{
 "cells": [
  {
   "cell_type": "markdown",
   "metadata": {},
   "source": [
    "# Socket Programming\n",
    "\n",
    "## Sockets\n",
    "\n",
    "* Inter process and network communication among programs.\n",
    "* Sockets establish communication channels among programs. \n",
    "* Subject to network protocols.\n",
    "* A socket is constructed, defined by two basic information:\n",
    "  - **Address Family or Domain:** Protocol family of the socket.\n",
    "    `AF_UNIX, AF_INET, AF_INET6, AF_IPX, AF_BLUETOOTH`\n",
    "  - **Socket Type**: The type of socket, how data is packed, sequenced, reliability etc.\n",
    "    `SOCK_STREAM, SOCK_DGRAM, SOCK_SEQPACK, SOCK_RAW`\n",
    "* Each socket domain and type is internally handled by operating system as networking protocols.\n",
    "* Details are abstracted from user. User just use socket like a file handle, data send over the socket can be received by another node in the network.\n",
    "\n",
    "\n",
    "\n",
    "## `AF_UNIX` Family\n",
    "\n",
    "* A family without networking. Only processed within the same host/node can communicate.\n",
    "* A path on file system is used as an address. Path should be writable and when bound, a special file is created\n",
    "\n",
    "## `AF_INET` Family\n",
    "\n",
    "* Internet protocol version 4 family.\n",
    "* Socket address is a tuple of IP address and a port. An IP address is a 4 byte address. Python uses a dot separated sequence of decimal numbers as a string. i.e. '144.122.171.123'. Port is a positive integer in [1:65535]\n",
    "* `('144.122.145.146',80)` is address of departments web server.\n",
    "\n",
    "## `AF_INET6` Family\n",
    "\n",
    "* Internet protocol version 6 family.\n",
    "* Socket address is a tuple of IPv6 address and a port. An IPv6 address is a 16 bytes address. A column separated sequence of 2 bytes hexadecimal values are used (as `'2001:a98:30:cc::4:f101'`).  Port is a positive integer in [1:65535]\n",
    "\n",
    "## `SOCK_STREAM` vs `SOCK_DGRAM`\n",
    "\n",
    "* `SOCK_STREAM` is a stream sequence of bytes. The underlying protocol provides that the packets are:\n",
    "  - Ordered\n",
    "  - Reliable\n",
    "  - No duplication\n",
    "* `SOCK_DGRAM` is  a datagram based socket type. Has a packet boundary. Not a stream. Each datagram is a standalone structure. In datagram packets can:\n",
    "  - Arrive in arbitrary order to receiver\n",
    "  - be lost\n",
    "  - be duplicated, same datagram can be received multiple times.\n",
    "* In `AF_INET` **tcp** and **udp** are examples of `SOCK_STREAM` and `SOCK_DGRAM` respectively.\n",
    "* `SOCK_DGRAM` is faster by definition. Trade off between reliability and speed.\n",
    "  \n"
   ]
  },
  {
   "cell_type": "code",
   "execution_count": 35,
   "metadata": {},
   "outputs": [
    {
     "name": "stdout",
     "output_type": "stream",
     "text": [
      "removing  /tmp/mysocket\n"
     ]
    }
   ],
   "source": [
    "# a simple unix domain datagram communication in a thread\n",
    "from socket import *\n",
    "from threading import Thread\n",
    "import os,stat\n",
    "\n",
    "def cleansocketfile(path):\n",
    "    '''Test if the path is a socket file and clean it'''\n",
    "    try:\n",
    "        st = os.stat(path)\n",
    "        if st and stat.S_ISSOCK(st.st_mode):\n",
    "            print(\"removing \",path)\n",
    "            os.unlink(path)\n",
    "            return True\n",
    "        else:\n",
    "            return False\n",
    "    except:\n",
    "        return False\n",
    "    return False\n",
    "\n",
    "def readandprintone():\n",
    "    # create a socket, which is not bound yet\n",
    "    s = socket(AF_UNIX, SOCK_DGRAM)\n",
    "    \n",
    "    # bind an adress to it. \n",
    "    cleansocketfile(\"/tmp/mysocket\")\n",
    "    s.bind(\"/tmp/mysocket\")\n",
    "    \n",
    "    res = s.recv(1000)  \n",
    "    print(res)\n",
    "    s.close()\n",
    "    \n",
    "t=Thread(target=readandprintone, args=())\n",
    "t.start()"
   ]
  },
  {
   "cell_type": "code",
   "execution_count": 22,
   "metadata": {
    "scrolled": true
   },
   "outputs": [
    {
     "data": {
      "text/plain": [
       "5"
      ]
     },
     "execution_count": 22,
     "metadata": {},
     "output_type": "execute_result"
    },
    {
     "name": "stdout",
     "output_type": "stream",
     "text": [
      "b'hello'\n"
     ]
    }
   ],
   "source": [
    "c = socket(AF_UNIX, SOCK_DGRAM)\n",
    "c.sendto(b'hello',\"/tmp/mysocket\")"
   ]
  },
  {
   "cell_type": "code",
   "execution_count": 38,
   "metadata": {},
   "outputs": [
    {
     "name": "stdout",
     "output_type": "stream",
     "text": [
      "(b'hello how are you', ('127.0.0.1', 51750))\n"
     ]
    }
   ],
   "source": [
    "# same example in INET domain\n",
    "def readandprintone():\n",
    "    # create a socket, which is not bound yet\n",
    "    s = socket(AF_INET, SOCK_DGRAM)\n",
    "\n",
    "    # bind an adress to it. \n",
    "\n",
    "    s.bind(('0.0.0.0', 10447))\n",
    "\n",
    "    res = s.recvfrom(1000) \n",
    "    print(res)\n",
    "    s.close()\n",
    "\n",
    "t=Thread(target=readandprintone, args=())\n",
    "t.start()\n",
    "\n",
    "c = socket(AF_INET, SOCK_DGRAM)\n",
    "c.sendto(b'hello how are you', ('127.0.0.1', 10447))\n",
    "c.close()"
   ]
  },
  {
   "cell_type": "markdown",
   "metadata": {},
   "source": [
    "# Datagram Communication\n",
    "\n",
    "|     | Server | Client |\n",
    "|-----|--------|--------|\n",
    "| **Request** | create a socket `s`,<br/>bind it to address `p`,<br/>`recvfrom()` on `s`,<br/>`recvfrom` returns  `(reqbody, peeraddr)` | create a socket `c`,<br/>`sendto()` request to `p`<br/> |\n",
    "|**Response** |get `peeraddr`<br\\>`sendto(response, peeraddr)`|`recv()` on `c`|\n",
    "\n",
    "* No stream channel as established connection\n",
    "* All communication is through single shot messages in datagrams."
   ]
  },
  {
   "cell_type": "code",
   "execution_count": 51,
   "metadata": {},
   "outputs": [
    {
     "name": "stderr",
     "output_type": "stream",
     "text": [
      "Exception in thread Thread-112:\n",
      "Traceback (most recent call last):\n",
      "  File \"/usr/lib/python3.5/threading.py\", line 914, in _bootstrap_inner\n",
      "    self.run()\n",
      "  File \"/usr/lib/python3.5/threading.py\", line 862, in run\n",
      "    self._target(*self._args, **self._kwargs)\n",
      "  File \"<ipython-input-51-7a8932e4468a>\", line 7, in echoservice\n",
      "    s.bind(('', port))\n",
      "OSError: [Errno 98] Address already in use\n",
      "\n"
     ]
    },
    {
     "ename": "RuntimeError",
     "evalue": "can't start new thread",
     "output_type": "error",
     "traceback": [
      "\u001b[0;31m---------------------------------------------------------------------------\u001b[0m",
      "\u001b[0;31mRuntimeError\u001b[0m                              Traceback (most recent call last)",
      "\u001b[0;32m<ipython-input-51-7a8932e4468a>\u001b[0m in \u001b[0;36m<module>\u001b[0;34m()\u001b[0m\n\u001b[1;32m     25\u001b[0m \u001b[0mclients\u001b[0m \u001b[0;34m=\u001b[0m \u001b[0;34m[\u001b[0m\u001b[0mThread\u001b[0m\u001b[0;34m(\u001b[0m\u001b[0mtarget\u001b[0m \u001b[0;34m=\u001b[0m \u001b[0mclient\u001b[0m\u001b[0;34m,\u001b[0m \u001b[0margs\u001b[0m\u001b[0;34m=\u001b[0m\u001b[0;34m(\u001b[0m\u001b[0;36m20445\u001b[0m\u001b[0;34m,\u001b[0m\u001b[0;34m)\u001b[0m\u001b[0;34m)\u001b[0m \u001b[0;32mfor\u001b[0m \u001b[0mi\u001b[0m \u001b[0;32min\u001b[0m \u001b[0mrange\u001b[0m\u001b[0;34m(\u001b[0m\u001b[0;36m5\u001b[0m\u001b[0;34m)\u001b[0m\u001b[0;34m]\u001b[0m\u001b[0;34m\u001b[0m\u001b[0m\n\u001b[1;32m     26\u001b[0m \u001b[0mserv\u001b[0m\u001b[0;34m.\u001b[0m\u001b[0mstart\u001b[0m\u001b[0;34m(\u001b[0m\u001b[0;34m)\u001b[0m\u001b[0;34m\u001b[0m\u001b[0m\n\u001b[0;32m---> 27\u001b[0;31m \u001b[0;32mfor\u001b[0m \u001b[0mcl\u001b[0m \u001b[0;32min\u001b[0m \u001b[0mclients\u001b[0m\u001b[0;34m:\u001b[0m \u001b[0mcl\u001b[0m\u001b[0;34m.\u001b[0m\u001b[0mstart\u001b[0m\u001b[0;34m(\u001b[0m\u001b[0;34m)\u001b[0m\u001b[0;34m\u001b[0m\u001b[0m\n\u001b[0m\u001b[1;32m     28\u001b[0m \u001b[0;34m\u001b[0m\u001b[0m\n",
      "\u001b[0;32m/usr/lib/python3.5/threading.py\u001b[0m in \u001b[0;36mstart\u001b[0;34m(self)\u001b[0m\n\u001b[1;32m    842\u001b[0m             \u001b[0m_limbo\u001b[0m\u001b[0;34m[\u001b[0m\u001b[0mself\u001b[0m\u001b[0;34m]\u001b[0m \u001b[0;34m=\u001b[0m \u001b[0mself\u001b[0m\u001b[0;34m\u001b[0m\u001b[0m\n\u001b[1;32m    843\u001b[0m         \u001b[0;32mtry\u001b[0m\u001b[0;34m:\u001b[0m\u001b[0;34m\u001b[0m\u001b[0m\n\u001b[0;32m--> 844\u001b[0;31m             \u001b[0m_start_new_thread\u001b[0m\u001b[0;34m(\u001b[0m\u001b[0mself\u001b[0m\u001b[0;34m.\u001b[0m\u001b[0m_bootstrap\u001b[0m\u001b[0;34m,\u001b[0m \u001b[0;34m(\u001b[0m\u001b[0;34m)\u001b[0m\u001b[0;34m)\u001b[0m\u001b[0;34m\u001b[0m\u001b[0m\n\u001b[0m\u001b[1;32m    845\u001b[0m         \u001b[0;32mexcept\u001b[0m \u001b[0mException\u001b[0m\u001b[0;34m:\u001b[0m\u001b[0;34m\u001b[0m\u001b[0m\n\u001b[1;32m    846\u001b[0m             \u001b[0;32mwith\u001b[0m \u001b[0m_active_limbo_lock\u001b[0m\u001b[0;34m:\u001b[0m\u001b[0;34m\u001b[0m\u001b[0m\n",
      "\u001b[0;31mRuntimeError\u001b[0m: can't start new thread"
     ]
    }
   ],
   "source": [
    "# A typical datagram service loop and clients\n",
    "import time, random\n",
    "\n",
    "def echoservice(n,port):\n",
    "    ''' n times read a request and echo uppercase back'''\n",
    "    s = socket(AF_INET, SOCK_DGRAM)\n",
    "    s.bind(('', port))\n",
    "    \n",
    "    for i in range(n):\n",
    "        req, peer = s.recvfrom(10000)\n",
    "        print(\"request\",req, \" from \", peer)\n",
    "        s.sendto(req.decode().upper().encode(), peer)\n",
    "    s.close()\n",
    "\n",
    "def client(port):\n",
    "    c = socket(AF_INET, SOCK_DGRAM)\n",
    "    time.sleep(random.random()*2)\n",
    "    c.sendto(b'hello', ('127.0.0.1', port))\n",
    "    result = c.recv(1000)\n",
    "    print(\"Result:\" , result)\n",
    "\n",
    "# create a server\n",
    "serv = Thread(target=echoservice, args=(5,20445))\n",
    "# create 5 clients\n",
    "clients = [Thread(target = client, args=(20445,)) for i in range(5)]\n",
    "serv.start()\n",
    "for cl in clients: cl.start()\n",
    "    "
   ]
  },
  {
   "cell_type": "markdown",
   "metadata": {},
   "source": [
    "# Stream type and establishing a connection\n",
    "\n",
    "* DGRAM is connectionless\n",
    "* Streams are used for longer term reliable connections\n",
    "* A stream is a bidirectional channel among the peers\n",
    "\n",
    "**Server:**\n",
    "* create socket `s=socket(..., SOCK_STREAM)`\n",
    "* bind it    `s.bind(...)`\n",
    "* listen to it `s.listen(queuesize)`\n",
    "* per connection request a loop\n",
    "  ```python\n",
    "  while True:\n",
    "     ns, peer = s.accept()\n",
    "     # now we have a different socket object for each new channel\n",
    "     # serve ns on a concurrent thread/process\n",
    "     # ready to accept new connection\n",
    "  ```\n",
    "  \n",
    "**Client:**\n",
    "* create a socket\n",
    "* connect to server address\n",
    "  \n",
    "  "
   ]
  },
  {
   "cell_type": "code",
   "execution_count": 12,
   "metadata": {},
   "outputs": [
    {
     "name": "stdout",
     "output_type": "stream",
     "text": [
      "('127.0.0.1', 41620) connected\n",
      "('127.0.0.1', 41622) connected\n",
      "('127.0.0.1', 41624) connected\n",
      "('127.0.0.1', 41626) connected\n",
      "('127.0.0.1', 41628) connected\n",
      "('127.0.0.1', 41620) b'NO'\n",
      "('127.0.0.1', 41620) b'WHY'\n",
      "('127.0.0.1', 41622) b'MAYBE'\n",
      "('127.0.0.1', 41628) b'HELLO'\n",
      "('127.0.0.1', 41624) b'WHY'\n",
      "('127.0.0.1', 41624) b'NO'\n",
      "('127.0.0.1', 41626) b'BYE'\n",
      "('127.0.0.1', 41620) b'WHY NOT?'\n",
      "('127.0.0.1', 41628) b'MAYBE'\n",
      "('127.0.0.1', 41622) b'MAYBE'\n",
      "('127.0.0.1', 41624) b'NO'\n",
      "('127.0.0.1', 41622) b'WHY'\n",
      "('127.0.0.1', 41628) b'HELLO'\n",
      "('127.0.0.1', 41620) b'BYE'\n",
      "('127.0.0.1', 41628) b'ARE YOU SURE'\n",
      "('127.0.0.1', 41626) b'YES'\n",
      "('127.0.0.1', 41620) b'MAYBE'\n",
      "('127.0.0.1', 41620)  closing\n",
      "('127.0.0.1', 41622) b'BYE'\n",
      "('127.0.0.1', 41628) b'HELLO'('127.0.0.1', 41628)\n",
      "  closing\n",
      "('127.0.0.1', 41624) b'NO'\n",
      "('127.0.0.1', 41622) b'BYE'\n",
      "('127.0.0.1', 41622)  closing\n",
      "('127.0.0.1', 41626) b'WHY'\n",
      "('127.0.0.1', 41624) b'BYE'\n",
      "('127.0.0.1', 41624)  closing\n",
      "('127.0.0.1', 41626) b'HELLO'\n",
      "('127.0.0.1', 41626)('127.0.0.1', 41626)  b'WHY' closing\n",
      "\n"
     ]
    }
   ],
   "source": [
    "# A thread per connection stream service and clients\n",
    "import time\n",
    "import random\n",
    "\n",
    "def echoservice(sock):\n",
    "    ''' echo uppercase string back in a loop'''\n",
    "    req = sock.recv(1000)\n",
    "    while req and req != '':\n",
    "        # remove trailing newline and blanks\n",
    "        req = req.rstrip()\n",
    "        sock.send(req.decode().upper().encode())\n",
    "        req = sock.recv(1000)\n",
    "    print(sock.getpeername(), ' closing')\n",
    "\n",
    "def client(n, port):\n",
    "    # send n random request\n",
    "    # the connection is kept alive until client closes it.\n",
    "    mess = ['hello', 'bye', 'why', 'yes', 'no', 'maybe', 'are you sure', 'why not?']\n",
    "    c = socket(AF_INET, SOCK_STREAM)\n",
    "    c.connect(('127.0.0.1', port))\n",
    "    for i in range(n):\n",
    "        time.sleep(random.random()*3)\n",
    "        c.send(random.choice(mess).encode())\n",
    "        reply = c.recv(1024)\n",
    "        print(c.getsockname(), reply)\n",
    "    c.close()\n",
    "        \n",
    "def server(port):\n",
    "    s = socket(AF_INET, SOCK_STREAM)\n",
    "    s.bind(('',port))\n",
    "    s.listen(1)    # 1 is queue size for \"not yet accept()'ed connections\"\n",
    "    try:\n",
    "        #while True:\n",
    "        for i in range(5):    # just limit # of accepts for Thread to exit\n",
    "            ns, peer = s.accept()\n",
    "            print(peer, \"connected\")\n",
    "            # create a thread with new socket\n",
    "            t = Thread(target = echoservice, args=(ns,))\n",
    "            t.start()\n",
    "            # now main thread ready to accept next connection\n",
    "    finally:\n",
    "        s.close()\n",
    "        \n",
    "    \n",
    "\n",
    "server = Thread(target=server, args=(20445,))\n",
    "server.start()\n",
    "# create 5 clients\n",
    "clients = [Thread(target = client, args=(5, 20445)) for i in range(5)]\n",
    "# start clients\n",
    "for cl in clients: cl.start()\n",
    "    "
   ]
  },
  {
   "cell_type": "code",
   "execution_count": null,
   "metadata": {},
   "outputs": [],
   "source": []
  }
 ],
 "metadata": {
  "kernelspec": {
   "display_name": "Python 3",
   "language": "python",
   "name": "python3"
  },
  "language_info": {
   "codemirror_mode": {
    "name": "ipython",
    "version": 3
   },
   "file_extension": ".py",
   "mimetype": "text/x-python",
   "name": "python",
   "nbconvert_exporter": "python",
   "pygments_lexer": "ipython3",
   "version": "3.5.3"
  },
  "toc": {
   "nav_menu": {},
   "number_sections": true,
   "sideBar": true,
   "skip_h1_title": false,
   "toc_cell": false,
   "toc_position": {},
   "toc_section_display": "block",
   "toc_window_display": false
  }
 },
 "nbformat": 4,
 "nbformat_minor": 2
}
