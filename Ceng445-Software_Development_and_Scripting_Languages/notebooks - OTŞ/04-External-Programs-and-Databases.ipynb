{
 "cells": [
  {
   "cell_type": "markdown",
   "metadata": {},
   "source": [
    "# Executing an external program\n",
    "\n",
    "* `os.system()` is not secure. Shell executes the program.\n",
    "* `subprocess` module is more secure, it provides pipe functionality\n",
    "* `Popen([fullpath,arg1, arg2, arg3, ...])` creates a subprocess executing the program. Program `stdin` and `stdout` is the terminal.\n",
    "* `Popen` has `stdin, stdout,stderr` paramaters to control program input, output and error."
   ]
  },
  {
   "cell_type": "code",
   "execution_count": 3,
   "metadata": {},
   "outputs": [],
   "source": [
    "from subprocess import Popen,PIPE"
   ]
  },
  {
   "cell_type": "code",
   "execution_count": 4,
   "metadata": {},
   "outputs": [
    {
     "data": {
      "text/plain": [
       "0"
      ]
     },
     "execution_count": 4,
     "metadata": {},
     "output_type": "execute_result"
    }
   ],
   "source": [
    "# output goes to terminal (in Jupyter it is in server, you cannot see it)\n",
    "p=Popen([\"/bin/ls\",\"-l\"])\n",
    "p.wait()"
   ]
  },
  {
   "cell_type": "markdown",
   "metadata": {},
   "source": [
    "## Getting input from a file, output to a file"
   ]
  },
  {
   "cell_type": "code",
   "execution_count": 6,
   "metadata": {},
   "outputs": [
    {
     "data": {
      "text/plain": [
       "0"
      ]
     },
     "execution_count": 6,
     "metadata": {},
     "output_type": "execute_result"
    }
   ],
   "source": [
    "# gets input from the file , outputs to another file\n",
    "fp = open(\"/etc/protocols\",\"r\")\n",
    "ofp = open(\"testfile.txt\",\"w\")\n",
    "p=Popen([\"/bin/grep\",\"v6\"], stdin=fp, stdout=ofp)\n",
    "p.wait()\n",
    "# check testfile.txt on root of Jupyter."
   ]
  },
  {
   "cell_type": "markdown",
   "metadata": {},
   "source": [
    "## Pipes\n",
    "\n",
    "Pipes are virtual communication channels among the programs. They are used as file objects. If data is written on one end, it can be read from the other end. subprocess.PIPE creates a pipe object when it is used in `stdin, stdout, stderr` parameter.\n",
    "\n",
    "Unix `man ls | grep modification` is an example of a pipe.\n",
    "\n",
    "Getting output of a program, giving input to it:"
   ]
  },
  {
   "cell_type": "code",
   "execution_count": 29,
   "metadata": {
    "scrolled": true
   },
   "outputs": [
    {
     "name": "stdout",
     "output_type": "stream",
     "text": [
      "[b'total 1632\\n', b'-rw-r--r--  1 onur onur  13273 Nov  6 23:21 CEng445-oct-10.ipynb\\n', b'-rw-r--r--  1 onur onur  19471 Oct 23 11:18 CEng445-Oct12.ipynb\\n', b'-rw-r--r--  1 onur onur 304183 Oct 20 15:48 CEng445-Oct17.html\\n', b'-rw-r--r--  1 onur onur  24190 Nov  6 11:47 CEng445-Oct17.ipynb\\n', b'-rw-r--r--  1 onur onur 263323 Oct 20 15:48 CEng445-Oct19.html\\n', b'-rw-r--r--  1 onur onur   5224 Nov  7 09:43 CEng445-Oct19.ipynb\\n', b'-rw-r--r--  1 onur onur 299108 Oct 31 17:57 CEng445-Oct24.html\\n', b'-rw-r--r--  1 onur onur  22098 Nov  7 10:00 CEng445-Oct24.ipynb\\n', b'-rw-r--r--  1 onur onur 262787 Oct 31 17:57 CEng445-Oct26.html\\n', b'-rw-r--r--  1 onur onur   4428 Nov  2 13:28 CEng445-Oct26.ipynb\\n', b'-rw-r--r--  1 onur onur 320398 Oct 31 17:57 CEng445-Oct31.html\\n', b'-rw-r--r--  1 onur onur  22511 Nov  2 15:00 CEng445-Oct31.ipynb\\n', b'-rw-r--r--  1 onur onur    187 Oct 31 17:03 grid.txt\\n', b'-rw-r--r--  1 onur onur  12288 Oct 25 23:56 mydb.sql3\\n', b'-rw-r--r--  1 onur onur   8720 Oct 26 11:45 mydb.sql3-journal\\n', b'drwxr-xr-x 11 onur onur   4096 Oct 13 10:38 onur\\n', b'-rw-r--r--  1 onur onur    416 Nov  7 10:04 testfile.txt\\n', b'-rw-r--r--  1 onur onur   3583 Nov  2 16:05 Untitled1.ipynb\\n', b'-rw-r--r--  1 onur onur  14205 Oct 31 13:21 Untitled.ipynb\\n']\n"
     ]
    },
    {
     "data": {
      "text/plain": [
       "0"
      ]
     },
     "execution_count": 29,
     "metadata": {},
     "output_type": "execute_result"
    }
   ],
   "source": [
    "p = Popen([\"/bin/ls\", \"-l\"], stdout=PIPE)\n",
    "print(p.stdout.readlines())\n",
    "p.wait()"
   ]
  },
  {
   "cell_type": "code",
   "execution_count": 30,
   "metadata": {},
   "outputs": [
    {
     "name": "stdout",
     "output_type": "stream",
     "text": [
      "HELLO /USR/BIN/TR\n",
      "PLEASE CAPITILIZE THESE\n"
     ]
    },
    {
     "data": {
      "text/plain": [
       "0"
      ]
     },
     "execution_count": 30,
     "metadata": {},
     "output_type": "execute_result"
    }
   ],
   "source": [
    "p = Popen([\"/usr/bin/tr\",\"/a-z/\",\"/A-Z/\"], stdin=PIPE, stdout=PIPE)\n",
    "p.stdin.write(b'hello /usr/bin/tr\\n')\n",
    "p.stdin.write(b'please capitilize these\\n')\n",
    "p.stdin.close()\n",
    "for line in p.stdout:\n",
    "    print(line.decode(),end='')\n",
    "p.wait()"
   ]
  },
  {
   "cell_type": "markdown",
   "metadata": {},
   "source": [
    "## Chain commands"
   ]
  },
  {
   "cell_type": "code",
   "execution_count": 7,
   "metadata": {
    "scrolled": true
   },
   "outputs": [
    {
     "name": "stdout",
     "output_type": "stream",
     "text": [
      "-- man ls | grep modification --\n",
      "       -c     with -lt: sort by, and show, ctime (time of last modification of\n",
      "              with -l, show time as WORD instead of default modification time:\n",
      "       -t     sort by modification time, newest first\n",
      "-- man ls | grep modification | cat -n --\n",
      "     1\t       -c     with -lt: sort by, and show, ctime (time of last modification of\n",
      "     2\t              with -l, show time as WORD instead of default modification time:\n",
      "     3\t       -t     sort by modification time, newest first\n"
     ]
    },
    {
     "data": {
      "text/plain": [
       "0"
      ]
     },
     "execution_count": 7,
     "metadata": {},
     "output_type": "execute_result"
    }
   ],
   "source": [
    "# man ls | grep modification\n",
    "print(\"-- man ls | grep modification --\")\n",
    "\n",
    "p = Popen([\"/usr/bin/man\",\"ls\"], stdout = PIPE)\n",
    "q = Popen([\"/bin/grep\",\"modification\"], stdin = p.stdout, stdout = PIPE)\n",
    "for line in q.stdout:\n",
    "    print(line.decode(), end='')\n",
    "p.wait()\n",
    "q.wait()\n",
    "\n",
    "print(\"-- man ls | grep modification | cat -n --\")\n",
    "\n",
    "#man ls | grep modification | cat -n\n",
    "p = Popen([\"/usr/bin/man\",\"ls\"], stdout = PIPE)\n",
    "q = Popen([\"/bin/grep\",\"modification\"], stdin = p.stdout, stdout = PIPE)\n",
    "r = Popen([\"/bin/cat\",\"-n\"], stdin = q.stdout, stdout = PIPE)\n",
    "for line in r.stdout:\n",
    "    print(line.decode(), end='')\n",
    "p.wait()\n",
    "q.wait()\n",
    "r.wait()\n"
   ]
  },
  {
   "cell_type": "markdown",
   "metadata": {},
   "source": [
    "Pipe objects is alive until there is still a reader or writer for that pipe. A PIPE created as a `stdin` pamarameter is automatically opened for writing by the current process (one calling Popen). The readers of the pipe (process with `stdin` parameter) gets EOF when the last reader closes the pipe.\n",
    "\n",
    "Following is a multiple writer example. If current process does not call `p.stdin.close()`, `grep terminal` process will wait until it."
   ]
  },
  {
   "cell_type": "code",
   "execution_count": 11,
   "metadata": {},
   "outputs": [
    {
     "name": "stdout",
     "output_type": "stream",
     "text": [
      "              'ls' and output is a terminal)\n",
      "       standard output is connected to a terminal.  The LS_COLORS  environment\n",
      "       and error are both connected to terminals (as determined by isatty(3)),\n",
      "              Used by the select compound command to  determine  the  terminal\n",
      "              coming from a terminal.  In an interactive shell, the  value  is\n",
      "       -t fd  True if file descriptor fd is open and refers to a terminal.\n",
      "     -T      Disable pseudo-terminal allocation.\n",
      "     -t      Force pseudo-terminal allocation.  This can be used to execute\n",
      "     pseudo-terminal (pty) for interactive sessions when the client has one.\n",
      "     If a pseudo-terminal has been allocated the user may use the escape char‐\n",
      "     If no pseudo-terminal has been allocated, the session is transparent and\n",
      "     When a pseudo-terminal has been requested, ssh supports a number of func‐\n",
      "       interface  supplied  jointly  by the operating system kernel's terminal\n",
      "       the operating system maintains the notion of a current terminal process\n",
      "       ID is equal to the current terminal process group ID) receive keyboard-\n",
      "       differs from the terminal's; such processes are immune to keyboard-gen‐\n",
      "       if the user so specifies with  stty  tostop,  write  to  the  terminal.\n",
      "       tostop is in effect) the terminal are sent a SIGTTIN  (SIGTTOU)  signal\n",
      "       by  the  kernel's  terminal  driver, which, unless caught, suspends the\n",
      "       when  it  attempts  to  read input from the terminal, and control to be\n",
      "              \\l     the basename of the shell's terminal device name\n",
      "                     be  used  to  embed  a terminal control sequence into the\n",
      "              Controls  what  happens when readline wants to ring the terminal\n",
      "              set to audible, readline attempts to ring the terminal's bell.\n",
      "              treated specially by the kernel's terminal driver to their read‐\n",
      "              than  0 or greater than the terminal screen width.  A value of 0\n",
      "              simply listed on the terminal.\n",
      "              When set to On, readline will configure the terminal  in  a  way\n",
      "              key the terminal claims to support when it is called.   On  many\n",
      "              terminals, the meta key is used to send eight-bit characters.\n",
      "              regardless of what the terminal claims it can support.  The name\n",
      "              printing  characters, which can be used to embed a terminal con‐\n",
      "              a terminal control sequence into the mode string.\n",
      "              a terminal control sequence into the mode string.\n",
      "              ing mode, the terminal being  used,  or  the  application  using\n",
      "              term   The  term=  form may be used to include terminal-specific\n",
      "                     the terminal's function keys.  The word on the right side\n",
      "                     minal  and  the  portion  of the terminal name before the\n",
      "                           passphrase from the current terminal if it was run\n",
      "                           from a terminal.  If ssh does not have a terminal\n",
      "              Abort the current editing command and ring the  terminal's  bell\n",
      "              -e     If the standard input is coming from a terminal, readline\n",
      "                     displayed only if input is coming from a terminal.\n",
      "              -s     Silent mode.  If input is coming from a terminal, charac‐\n",
      "                     reading  input  from  a  terminal, pipe, or other special\n",
      "              -P     The maximum number of pseudoterminals\n"
     ]
    },
    {
     "data": {
      "text/plain": [
       "0"
      ]
     },
     "execution_count": 11,
     "metadata": {},
     "output_type": "execute_result"
    }
   ],
   "source": [
    "p = Popen([\"/bin/grep\", \"terminal\"], stdin = PIPE, stdout = PIPE)\n",
    "q1 = Popen([\"/usr/bin/man\",\"bash\"], stdout = p.stdin)\n",
    "q2 = Popen([\"/usr/bin/man\",\"ls\"], stdout = p.stdin)\n",
    "q3 = Popen([\"/usr/bin/man\",\"ssh\"], stdout = p.stdin)\n",
    "\n",
    "# close the unused input pipes\n",
    "p.stdin.close()\n",
    "\n",
    "for line in p.stdout:\n",
    "    print(line.decode(), end='')\n",
    "\n",
    "q1.wait()\n",
    "q2.wait()\n",
    "q3.wait()\n",
    "p.wait()"
   ]
  },
  {
   "cell_type": "markdown",
   "metadata": {},
   "source": [
    "## Synchronization and deadlocks\n",
    "\n",
    "Pipes and subprocesses are difficult to control for a complicated task. Make sure\n",
    "unused ends of pipes (especially that you write) are closed. You do not `wait` for a subprocess that is blocked on some other thing (I/O or other process). Otherwise your code will wait forever"
   ]
  },
  {
   "cell_type": "markdown",
   "metadata": {},
   "source": [
    "# Serializing, Storing-Saving Objects\n",
    "\n",
    "* `pickle` module allows conversion of an arbitrary object into a string representation and vice versa.\n",
    "* `pickle.dumps(object)` and `pickle.loads(string)` methods are used in conversion\n",
    "\n",
    "Serialization scenarios include:\n",
    "* saving/restoring object state on a file or database\n",
    "* sending an object over network\n",
    "* calling methods of a remote object (parameters and return value serialized)\n",
    "* object and application persistent"
   ]
  },
  {
   "cell_type": "code",
   "execution_count": 13,
   "metadata": {},
   "outputs": [
    {
     "name": "stdout",
     "output_type": "stream",
     "text": [
      "b'\\x80\\x03]q\\x00(K\\x01K\\x02K\\x03}q\\x01(X\\x01\\x00\\x00\\x00cq\\x02]q\\x03K\\x01aX\\x01\\x00\\x00\\x00aq\\x04K{X\\x01\\x00\\x00\\x00bq\\x05X\\x05\\x00\\x00\\x00helloq\\x06ue.'\n",
      "[1, 2, 3, {'c': [1], 'a': 123, 'b': 'hello'}]\n"
     ]
    }
   ],
   "source": [
    "import pickle\n",
    "\n",
    "a=[1,2,3,{'a':123,'b':'hello','c':[1]}]\n",
    "mystr=pickle.dumps(a)\n",
    "print(mystr)\n",
    "b=pickle.loads(mystr)\n",
    "print(b)"
   ]
  },
  {
   "cell_type": "markdown",
   "metadata": {
    "deletable": false,
    "editable": false,
    "run_control": {
     "frozen": true
    }
   },
   "source": [
    "User defined classes can also be serialized with `pickle`. All properly defined methods (no lambda) and members of an object are serialized automatically. If methods make external references (call outside methods or access global variables) they are not serialized. If restoring program does not have those definitions, run time error is generated when invoked."
   ]
  },
  {
   "cell_type": "code",
   "execution_count": 14,
   "metadata": {
    "scrolled": true
   },
   "outputs": [
    {
     "name": "stdout",
     "output_type": "stream",
     "text": [
      "b'\\x80\\x03c__main__\\nLList\\nq\\x00)\\x81q\\x01}q\\x02(X\\x04\\x00\\x00\\x00headq\\x03cbuiltins\\ngetattr\\nq\\x04h\\x00X\\x04\\x00\\x00\\x00Nodeq\\x05\\x86q\\x06Rq\\x07)\\x81q\\x08}q\\t(X\\x04\\x00\\x00\\x00nextq\\nh\\x07)\\x81q\\x0b}q\\x0c(h\\nh\\x07)\\x81q\\r}q\\x0e(h\\nh\\x07)\\x81q\\x0f}q\\x10(h\\nh\\x07)\\x81q\\x11}q\\x12(h\\nh\\x07)\\x81q\\x13}q\\x14(h\\nh\\x07)\\x81q\\x15}q\\x16(h\\nNX\\x03\\x00\\x00\\x00valq\\x17K\\x01ubh\\x17K\\x06ubh\\x17K\\x07ubh\\x17K\\x08ubh\\x17K\\x08ubh\\x17K\\x05ubh\\x17K\\x03ubX\\x04\\x00\\x00\\x00lastq\\x18h\\x15ub.'\n",
      "[3 -> 5 -> 8 -> 8 -> 7 -> 6 -> 1]\n"
     ]
    }
   ],
   "source": [
    "class LList:\n",
    "    '''Linked list implementation. Iterator reuse is fixed'''\n",
    "    class Node:\n",
    "        def __init__(self, v,n):\n",
    "            self.val, self.next = v, n\n",
    "        def __str__(self):\n",
    "            return \"( \" + str(self.val) + \", \" + str(self.next) + \" )\"\n",
    "            \n",
    "    def __init__(self,vals=[]):\n",
    "        self.head = self.last = None\n",
    "        for v in vals:\n",
    "            self.append(v)\n",
    "    def append(self,v):\n",
    "        if self.last == None:\n",
    "            # very first element\n",
    "            self.head = self.last = LList.Node(v,None)\n",
    "        else:\n",
    "            self.last.next = LList.Node(v,None)\n",
    "            self.last = self.last.next\n",
    "    def __getitem__(self,no):\n",
    "        count = 0\n",
    "        ptr = self.head\n",
    "        while count < no:\n",
    "            if ptr:\n",
    "                ptr = ptr.next   # next\n",
    "            else:\n",
    "                raise IndexError\n",
    "            count += 1\n",
    "        if ptr:\n",
    "            return ptr.val\n",
    "        else:\n",
    "            raise IndexError\n",
    "    def __setitem__(self,no,val):\n",
    "        count = 0\n",
    "        ptr = self.head\n",
    "        while count < no:\n",
    "            if ptr:\n",
    "                ptr = ptr.next\n",
    "            else:\n",
    "                raise IndexError\n",
    "            count += 1\n",
    "        if ptr:\n",
    "            ptr.val=val\n",
    "            return ptr.val\n",
    "        else:\n",
    "            raise IndexError\n",
    "    def __delitem__(self,no):\n",
    "        count = 0\n",
    "        prev = ptr = self.head\n",
    "        while count < no:\n",
    "            if ptr:\n",
    "                prev = ptr\n",
    "                ptr = ptr.next\n",
    "            else:\n",
    "                raise IndexError\n",
    "            count += 1\n",
    "        if ptr:\n",
    "            if ptr is self.head:\n",
    "                if self.head is self.last:\n",
    "                    self.head = self.last = None\n",
    "                else:\n",
    "                    self.head = self.head.val\n",
    "            else: \n",
    "                if ptr == self.last:\n",
    "                    self.last = prev\n",
    "                prev.next = ptr.next\n",
    "        else:\n",
    "            raise IndexError\n",
    "    def __str__(self):\n",
    "        ret=\"[\"\n",
    "        ptr = self.head\n",
    "        while True:\n",
    "            if ptr:\n",
    "                ret += str(ptr.val)\n",
    "            else:\n",
    "                break\n",
    "            ptr = ptr.next\n",
    "            if ptr:\n",
    "                ret += \" -> \"\n",
    "        ret += \"]\"\n",
    "        return ret\n",
    "    \n",
    "    def __iter__(self):\n",
    "        '''return a brand new iterator'''\n",
    "        return LListIterator(self)\n",
    "    \n",
    "    # yes, nested iterators possible\n",
    "    class LListIterator:\n",
    "        def __init__(self,llist):\n",
    "            self.llist = llist\n",
    "            self.itptr = llist.head\n",
    "        def __next__(self):\n",
    "            if self.itptr == None:\n",
    "                raise StopIteration\n",
    "            else:\n",
    "                val=self.itptr[0]\n",
    "                self.itptr = self.itptr[1]\n",
    "                return val\n",
    "            \n",
    "\n",
    "            \n",
    "a = LList([3,5,8,8,7,6,1])\n",
    "\n",
    "apick = pickle.dumps(a)\n",
    "print(apick)\n",
    "\n",
    "# this scenario even works when apick is send to a different python instance where LList is **not** defined\n",
    "b = pickle.loads(apick)\n",
    "print(b)"
   ]
  },
  {
   "cell_type": "markdown",
   "metadata": {},
   "source": [
    "# Database Access\n",
    "\n",
    "* `sqlite3` is a module providing simple single file SQL library with same name\n",
    "* `db = sqlite3.connect(filepath)` returns a database connector\n",
    "* `cursor = db.cursor()` returns a handle to execute queries\n",
    "* `cursor.execute(querystring)` will execute the query\n",
    "* `cursor.fetchone()` , `cursor.fetchall()` returns a single row or list of rows respectively\n",
    "* A query result can also be iterated."
   ]
  },
  {
   "cell_type": "code",
   "execution_count": 1,
   "metadata": {
    "ExecuteTime": {
     "end_time": "2017-11-11T21:51:55.662237Z",
     "start_time": "2017-11-11T21:51:53.024466Z"
    }
   },
   "outputs": [
    {
     "name": "stdout",
     "output_type": "stream",
     "text": [
      "error ignored\n",
      "SQL error UNIQUE constraint failed: student.stid\n"
     ]
    }
   ],
   "source": [
    "import sqlite3\n",
    "try:\n",
    "    db=sqlite3.connect(\"mydb.sql3\")\n",
    "    cur = db.cursor()\n",
    "except Exception as e:\n",
    "    print(\"SQL error\",e)\n",
    "try:\n",
    "    cur.execute(\"create table student (stid int primary key, name varchar(40), sname varchar(50))\")\n",
    "except:\n",
    "    print(\"error ignored\") # ignore this error\n",
    "\n",
    "try:\n",
    "    cur.execute(\"insert into student values (12341,'yilmaz','yilar'), (54213,'nalan','nalmayan'), (61231,'hasan','hasmayan'), (63441,'beren','bermeyen')\")\n",
    "    db.commit()    \n",
    "except Exception as e:\n",
    "    print(\"SQL error\",e)"
   ]
  },
  {
   "cell_type": "code",
   "execution_count": 2,
   "metadata": {
    "ExecuteTime": {
     "end_time": "2017-11-11T21:51:55.727321Z",
     "start_time": "2017-11-11T21:51:55.687040Z"
    },
    "scrolled": true
   },
   "outputs": [
    {
     "name": "stdout",
     "output_type": "stream",
     "text": [
      "(12341, 'yilmaz', 'yilar')\n",
      "(54213, 'nalan', 'nalmayan')\n",
      "(61231, 'hasan', 'hasmayan')\n",
      "(63441, 'beren', 'bermeyen')\n"
     ]
    }
   ],
   "source": [
    "try:\n",
    "    cur.execute(\"select * from student\")\n",
    "    for v in cur:\n",
    "        print(v)\n",
    "except Exception as e:\n",
    "    print(\"query error\",e)\n",
    "    \n",
    "    "
   ]
  },
  {
   "cell_type": "code",
   "execution_count": 2,
   "metadata": {},
   "outputs": [
    {
     "name": "stdout",
     "output_type": "stream",
     "text": [
      "(12341, 'yilmaz', 'yilar')\n",
      "(54213, 'nalan', 'nalmayan')\n",
      "(61231, 'hasan', 'hasmayan')\n",
      "(63441, 'beren', 'bermeyen')\n",
      "-------\n",
      "-------\n",
      "query error You can only execute one statement at a time.\n"
     ]
    }
   ],
   "source": [
    "stid='XXX\\' OR  name like \\'%'\n",
    "stid2='XXX\\'; DELETE STUDENT WHERE NAME LIKE \\'%'\n",
    "try:\n",
    "    cur.execute(\"select * from student where stid ='\" + stid + \"'\")\n",
    "    for v in cur:\n",
    "        print(v)\n",
    "    print('-------')\n",
    "    cur.execute(\"select * from student where stid =?\", (stid,))\n",
    "    for v in cur:\n",
    "        print(v)\n",
    "    print('-------')\n",
    "    cur.execute(\"select * from student where stid ='\" + stid2 + \"'\")\n",
    "except Exception as e:\n",
    "    print(\"query error\",e)"
   ]
  },
  {
   "cell_type": "markdown",
   "metadata": {},
   "source": []
  },
  {
   "cell_type": "markdown",
   "metadata": {},
   "source": []
  },
  {
   "cell_type": "code",
   "execution_count": null,
   "metadata": {},
   "outputs": [],
   "source": []
  },
  {
   "cell_type": "code",
   "execution_count": null,
   "metadata": {},
   "outputs": [],
   "source": []
  }
 ],
 "metadata": {
  "kernelspec": {
   "display_name": "Python 3",
   "language": "python",
   "name": "python3"
  },
  "language_info": {
   "codemirror_mode": {
    "name": "ipython",
    "version": 3
   },
   "file_extension": ".py",
   "mimetype": "text/x-python",
   "name": "python",
   "nbconvert_exporter": "python",
   "pygments_lexer": "ipython3",
   "version": "3.5.3"
  },
  "toc": {
   "nav_menu": {},
   "number_sections": true,
   "sideBar": true,
   "skip_h1_title": false,
   "toc_cell": false,
   "toc_position": {
    "height": "617px",
    "left": "0px",
    "right": "1203px",
    "top": "135px",
    "width": "269px"
   },
   "toc_section_display": "block",
   "toc_window_display": false
  }
 },
 "nbformat": 4,
 "nbformat_minor": 2
}
