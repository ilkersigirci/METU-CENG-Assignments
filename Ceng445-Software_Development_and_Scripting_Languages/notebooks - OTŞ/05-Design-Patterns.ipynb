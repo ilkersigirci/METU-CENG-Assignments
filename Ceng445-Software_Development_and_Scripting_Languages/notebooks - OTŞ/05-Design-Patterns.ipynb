{
 "cells": [
  {
   "cell_type": "markdown",
   "metadata": {},
   "source": [
    "# Design patterns\n",
    "\n",
    "## Singleton\n"
   ]
  },
  {
   "cell_type": "code",
   "execution_count": 25,
   "metadata": {},
   "outputs": [],
   "source": [
    "class Singleton:\n",
    "    def __new__(cls,*a, **b):\n",
    "        if hasattr(cls,'_inst'):\n",
    "            return cls._inst\n",
    "        else:\n",
    "            cls._inst=super().__new__(cls,*a,**b)\n",
    "            return cls._inst\n",
    "\n",
    "class Counter(Singleton):\n",
    "    def __init__(self):\n",
    "        if not hasattr(self,'val'):\n",
    "            self.val = 0\n",
    "    def get(self):\n",
    "        return self.val\n",
    "    def incr(self):\n",
    "        self.val +=1\n",
    "            "
   ]
  },
  {
   "cell_type": "code",
   "execution_count": 26,
   "metadata": {
    "ExecuteTime": {
     "start_time": "2017-11-11T10:34:45.473Z"
    }
   },
   "outputs": [
    {
     "name": "stdout",
     "output_type": "stream",
     "text": [
      "['__class__', '__delattr__', '__dict__', '__dir__', '__doc__', '__eq__', '__format__', '__ge__', '__getattribute__', '__gt__', '__hash__', '__init__', '__le__', '__lt__', '__module__', '__ne__', '__new__', '__reduce__', '__reduce_ex__', '__repr__', '__setattr__', '__sizeof__', '__str__', '__subclasshook__', '__weakref__', 'get', 'incr']\n",
      "['__class__', '__delattr__', '__dict__', '__dir__', '__doc__', '__eq__', '__format__', '__ge__', '__getattribute__', '__gt__', '__hash__', '__init__', '__le__', '__lt__', '__module__', '__ne__', '__new__', '__reduce__', '__reduce_ex__', '__repr__', '__setattr__', '__sizeof__', '__str__', '__subclasshook__', '__weakref__', '_inst', 'get', 'incr']\n"
     ]
    }
   ],
   "source": [
    "print(dir(Counter))\n",
    "#print(dir(Counter[_inst]))\n",
    "a=Counter()\n",
    "print(dir(Counter))\n"
   ]
  },
  {
   "cell_type": "code",
   "execution_count": 27,
   "metadata": {},
   "outputs": [
    {
     "name": "stdout",
     "output_type": "stream",
     "text": [
      "<__main__.Counter object at 0x7f2f95513240>\n",
      "<__main__.Counter object at 0x7f2f95513240> <__main__.Counter object at 0x7f2f95513240>\n",
      "3 3 3\n"
     ]
    },
    {
     "data": {
      "text/plain": [
       "4"
      ]
     },
     "execution_count": 27,
     "metadata": {},
     "output_type": "execute_result"
    }
   ],
   "source": [
    "print(Counter._inst)\n",
    "b=Counter()\n",
    "a.incr()\n",
    "b.incr()\n",
    "\n",
    "c=Counter()\n",
    "c.incr()\n",
    "print(b,c)\n",
    "print(a.get(),b.get(),c.get())\n",
    "Counter().incr()\n",
    "Counter().get()"
   ]
  },
  {
   "cell_type": "code",
   "execution_count": 42,
   "metadata": {},
   "outputs": [
    {
     "name": "stdout",
     "output_type": "stream",
     "text": [
      "onur\n"
     ]
    },
    {
     "data": {
      "text/plain": [
       "{'database': 'mysql://localhost/ceng445',\n",
       " 'filename': '445.txt',\n",
       " 'username': 'onur'}"
      ]
     },
     "execution_count": 42,
     "metadata": {},
     "output_type": "execute_result"
    }
   ],
   "source": [
    "def Singleton(cls):\n",
    "\t'''generic python decorator to make any class\n",
    "\tsingleton.'''\n",
    "\t_instances = {}\t  # keep classname vs. instance\n",
    "\tdef getinstance():\n",
    "\t\t'''if cls is not in _instances create it\n",
    "\t\tand store. return the stored instance'''\n",
    "\t\tif cls not in _instances:\n",
    "\t\t\t_instances[cls] = cls()\n",
    "\t\treturn _instances[cls]\n",
    "\treturn getinstance\n",
    "\n",
    "\n",
    "@Singleton\n",
    "class Config:\n",
    "    def __init__(self):\n",
    "        self.vals = {}\n",
    "    def __setitem__(self,k,v):\n",
    "        self.vals[k]=v\n",
    "    def __getitem__(self,k):\n",
    "        return self.vals[k]\n",
    "    \n",
    "    \n",
    "a=Config()\n",
    "a['username']='onur'\n",
    "b=Config()\n",
    "print(b['username'])\n",
    "Config()['filename']='445.txt'\n",
    "Config()['database']='mysql://localhost/ceng445'\n",
    "Config().vals"
   ]
  },
  {
   "cell_type": "code",
   "execution_count": null,
   "metadata": {},
   "outputs": [],
   "source": []
  },
  {
   "cell_type": "markdown",
   "metadata": {},
   "source": [
    "## Observer\n"
   ]
  },
  {
   "cell_type": "code",
   "execution_count": 43,
   "metadata": {},
   "outputs": [],
   "source": [
    "class OSubject:\n",
    "    def __init__(self):\n",
    "        self.observers = []\n",
    "    def register(self,obs):\n",
    "        self.observers.append(obs)\n",
    "    def unregister(self,obs):\n",
    "        self.observers.remove(obs)\n",
    "    def notify(self):\n",
    "        for obs in self.observers:\n",
    "            obs.update()\n",
    "\n",
    "class Clock(OSubject):\n",
    "    def __init__(self):\n",
    "        self.value = 0\n",
    "        super().__init__()\n",
    "    def get(self):\n",
    "        return self.value\n",
    "    def tick(self):\n",
    "        self.value +=1\n",
    "        self.notify()\n",
    "        \n",
    "class Person:\n",
    "    def __init__(self,name,clock):\n",
    "        self.name = name\n",
    "        self.clock = clock\n",
    "        clock.register(self)\n",
    "        \n",
    "    def update(self):\n",
    "        print('Updated:',self.name, self.clock.get())\n",
    "        \n",
    "        "
   ]
  },
  {
   "cell_type": "code",
   "execution_count": 44,
   "metadata": {},
   "outputs": [],
   "source": [
    "c=Clock()\n",
    "\n",
    "p1=Person('ali',c)\n",
    "p2=Person('veli',c)"
   ]
  },
  {
   "cell_type": "code",
   "execution_count": 45,
   "metadata": {},
   "outputs": [
    {
     "name": "stdout",
     "output_type": "stream",
     "text": [
      "Updated: ali 1\n",
      "Updated: veli 1\n"
     ]
    }
   ],
   "source": [
    "c.tick()"
   ]
  },
  {
   "cell_type": "code",
   "execution_count": 46,
   "metadata": {},
   "outputs": [
    {
     "name": "stdout",
     "output_type": "stream",
     "text": [
      "Updated: ali 2\n",
      "Updated: veli 2\n"
     ]
    }
   ],
   "source": [
    "c.tick()\n"
   ]
  },
  {
   "cell_type": "code",
   "execution_count": 47,
   "metadata": {},
   "outputs": [],
   "source": [
    "c.unregister(p2)"
   ]
  },
  {
   "cell_type": "code",
   "execution_count": 48,
   "metadata": {},
   "outputs": [
    {
     "name": "stdout",
     "output_type": "stream",
     "text": [
      "Updated: ali 3\n"
     ]
    }
   ],
   "source": [
    "c.tick()"
   ]
  },
  {
   "cell_type": "code",
   "execution_count": null,
   "metadata": {},
   "outputs": [],
   "source": []
  }
 ],
 "metadata": {
  "kernelspec": {
   "display_name": "Python 3",
   "language": "python",
   "name": "python3"
  },
  "language_info": {
   "codemirror_mode": {
    "name": "ipython",
    "version": 3
   },
   "file_extension": ".py",
   "mimetype": "text/x-python",
   "name": "python",
   "nbconvert_exporter": "python",
   "pygments_lexer": "ipython3",
   "version": "3.5.3"
  },
  "toc": {
   "nav_menu": {},
   "number_sections": true,
   "sideBar": true,
   "skip_h1_title": false,
   "toc_cell": false,
   "toc_position": {},
   "toc_section_display": "block",
   "toc_window_display": false
  }
 },
 "nbformat": 4,
 "nbformat_minor": 2
}
